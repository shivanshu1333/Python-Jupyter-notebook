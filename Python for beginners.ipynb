{
 "cells": [
  {
   "cell_type": "markdown",
   "metadata": {},
   "source": [
    "#                                                        PYTHON"
   ]
  },
  {
   "cell_type": "markdown",
   "metadata": {
    "collapsed": true
   },
   "source": [
    "# simple arithmatics"
   ]
  },
  {
   "cell_type": "code",
   "execution_count": 4,
   "metadata": {
    "collapsed": false
   },
   "outputs": [
    {
     "data": {
      "text/plain": [
       "(5, 20, 1024)"
      ]
     },
     "execution_count": 4,
     "metadata": {},
     "output_type": "execute_result"
    }
   ],
   "source": [
    "2+3,5*4, 2**10 #power"
   ]
  },
  {
   "cell_type": "code",
   "execution_count": 5,
   "metadata": {
    "collapsed": false
   },
   "outputs": [
    {
     "data": {
      "text/plain": [
       "3"
      ]
     },
     "execution_count": 5,
     "metadata": {},
     "output_type": "execute_result"
    }
   ],
   "source": [
    "10//3"
   ]
  },
  {
   "cell_type": "markdown",
   "metadata": {},
   "source": [
    "# strings"
   ]
  },
  {
   "cell_type": "code",
   "execution_count": 6,
   "metadata": {
    "collapsed": false
   },
   "outputs": [
    {
     "data": {
      "text/plain": [
       "'This is shivanshu raj shrivastava'"
      ]
     },
     "execution_count": 6,
     "metadata": {},
     "output_type": "execute_result"
    }
   ],
   "source": [
    "\"This is shivanshu raj shrivastava\""
   ]
  },
  {
   "cell_type": "code",
   "execution_count": 7,
   "metadata": {
    "collapsed": false
   },
   "outputs": [
    {
     "data": {
      "text/plain": [
       "'This is another way of in which a string can be written'"
      ]
     },
     "execution_count": 7,
     "metadata": {},
     "output_type": "execute_result"
    }
   ],
   "source": [
    "'This is another way of in which a string can be written'"
   ]
  },
  {
   "cell_type": "code",
   "execution_count": 8,
   "metadata": {
    "collapsed": true
   },
   "outputs": [],
   "source": [
    "NewVariable = \"This is a string \""
   ]
  },
  {
   "cell_type": "code",
   "execution_count": 9,
   "metadata": {
    "collapsed": false
   },
   "outputs": [
    {
     "data": {
      "text/plain": [
       "'This is a string This is a string This is a string This is a string This is a string '"
      ]
     },
     "execution_count": 9,
     "metadata": {},
     "output_type": "execute_result"
    }
   ],
   "source": [
    "NewVariable *5"
   ]
  },
  {
   "cell_type": "code",
   "execution_count": 10,
   "metadata": {
    "collapsed": false
   },
   "outputs": [
    {
     "data": {
      "text/plain": [
       "'This is a string Additioin of two strings'"
      ]
     },
     "execution_count": 10,
     "metadata": {},
     "output_type": "execute_result"
    }
   ],
   "source": [
    "NewVariable + \"Additioin of two strings\""
   ]
  },
  {
   "cell_type": "markdown",
   "metadata": {},
   "source": [
    "Slicing of string"
   ]
  },
  {
   "cell_type": "code",
   "execution_count": 11,
   "metadata": {
    "collapsed": true
   },
   "outputs": [],
   "source": [
    "String = \"slicing of string\""
   ]
  },
  {
   "cell_type": "code",
   "execution_count": 22,
   "metadata": {
    "collapsed": false
   },
   "outputs": [
    {
     "data": {
      "text/plain": [
       "'icing'"
      ]
     },
     "execution_count": 22,
     "metadata": {},
     "output_type": "execute_result"
    }
   ],
   "source": [
    "String [2:7] # include 2 till 6"
   ]
  },
  {
   "cell_type": "markdown",
   "metadata": {
    "collapsed": true
   },
   "source": [
    "# Lists"
   ]
  },
  {
   "cell_type": "code",
   "execution_count": 23,
   "metadata": {
    "collapsed": true
   },
   "outputs": [],
   "source": [
    "List = [1,2,3,4,5,6,7,8]"
   ]
  },
  {
   "cell_type": "code",
   "execution_count": 24,
   "metadata": {
    "collapsed": false
   },
   "outputs": [
    {
     "data": {
      "text/plain": [
       "3"
      ]
     },
     "execution_count": 24,
     "metadata": {},
     "output_type": "execute_result"
    }
   ],
   "source": [
    "List[2]"
   ]
  },
  {
   "cell_type": "code",
   "execution_count": 25,
   "metadata": {
    "collapsed": false
   },
   "outputs": [
    {
     "data": {
      "text/plain": [
       "[1, 2, 9, 4, 5, 6, 7, 8]"
      ]
     },
     "execution_count": 25,
     "metadata": {},
     "output_type": "execute_result"
    }
   ],
   "source": [
    "List[2]=9;List"
   ]
  },
  {
   "cell_type": "code",
   "execution_count": 26,
   "metadata": {
    "collapsed": false
   },
   "outputs": [
    {
     "data": {
      "text/plain": [
       "[1, 2, 9, 4, 5, 6, 7, 8, 9, 8, 7, 6]"
      ]
     },
     "execution_count": 26,
     "metadata": {},
     "output_type": "execute_result"
    }
   ],
   "source": [
    "List+[9,8,7,6]"
   ]
  },
  {
   "cell_type": "code",
   "execution_count": 27,
   "metadata": {
    "collapsed": false
   },
   "outputs": [],
   "source": [
    "List.append(120);"
   ]
  },
  {
   "cell_type": "code",
   "execution_count": 28,
   "metadata": {
    "collapsed": false
   },
   "outputs": [
    {
     "data": {
      "text/plain": [
       "[1, 2, 9, 4, 5, 6, 7, 8, 120]"
      ]
     },
     "execution_count": 28,
     "metadata": {},
     "output_type": "execute_result"
    }
   ],
   "source": [
    "List"
   ]
  },
  {
   "cell_type": "code",
   "execution_count": 29,
   "metadata": {
    "collapsed": true
   },
   "outputs": [],
   "source": [
    "List[5:]=[]"
   ]
  },
  {
   "cell_type": "code",
   "execution_count": 30,
   "metadata": {
    "collapsed": false
   },
   "outputs": [
    {
     "data": {
      "text/plain": [
       "[1, 2, 9, 4, 5]"
      ]
     },
     "execution_count": 30,
     "metadata": {},
     "output_type": "execute_result"
    }
   ],
   "source": [
    "List"
   ]
  },
  {
   "cell_type": "markdown",
   "metadata": {},
   "source": [
    "# if,elif,else statements"
   ]
  },
  {
   "cell_type": "code",
   "execution_count": 1,
   "metadata": {
    "collapsed": false
   },
   "outputs": [
    {
     "name": "stdout",
     "output_type": "stream",
     "text": [
      "Let's have some Brownies!\n"
     ]
    }
   ],
   "source": [
    "name=\"srs\"\n",
    "if name is \"srs\":\n",
    "    print(\"Let's have some Brownies!\")\n",
    "elif name is \"prs\":\n",
    "    print(\"what up dude?\")\n",
    "else:\n",
    "    print(\"It's kappa eta sigma property!\")"
   ]
  },
  {
   "cell_type": "markdown",
   "metadata": {},
   "source": [
    "# for loop"
   ]
  },
  {
   "cell_type": "code",
   "execution_count": 36,
   "metadata": {
    "collapsed": true
   },
   "outputs": [],
   "source": [
    "List = [\"lord\",\"srs\",\"hoochie\",\"mama\",\"extra\"]"
   ]
  },
  {
   "cell_type": "code",
   "execution_count": 44,
   "metadata": {
    "collapsed": false
   },
   "outputs": [
    {
     "name": "stdout",
     "output_type": "stream",
     "text": [
      "lord\n",
      "4\n",
      "srs\n",
      "3\n",
      "hoochie\n",
      "7\n",
      "mama\n",
      "4\n"
     ]
    }
   ],
   "source": [
    "for f in List[:4]:\n",
    "    print(f)\n",
    "    print(len(f))"
   ]
  },
  {
   "cell_type": "markdown",
   "metadata": {},
   "source": [
    "range"
   ]
  },
  {
   "cell_type": "code",
   "execution_count": 54,
   "metadata": {
    "collapsed": false
   },
   "outputs": [
    {
     "name": "stdout",
     "output_type": "stream",
     "text": [
      "lordsrs is awesome\n",
      "lordsrs is awesome\n",
      "lordsrs is awesome\n"
     ]
    }
   ],
   "source": [
    "for x in range(3):\n",
    "     print(\"lordsrs is awesome\")"
   ]
  },
  {
   "cell_type": "code",
   "execution_count": 58,
   "metadata": {
    "collapsed": false
   },
   "outputs": [
    {
     "name": "stdout",
     "output_type": "stream",
     "text": [
      "5\n",
      "10\n",
      "15\n"
     ]
    }
   ],
   "source": [
    "for x in range(5,20,5): # 5 to 20 in the interval of 5\n",
    "    print(x)"
   ]
  },
  {
   "cell_type": "markdown",
   "metadata": {},
   "source": [
    "# While loop"
   ]
  },
  {
   "cell_type": "code",
   "execution_count": 2,
   "metadata": {
    "collapsed": false
   },
   "outputs": [
    {
     "name": "stdout",
     "output_type": "stream",
     "text": [
      "10\n",
      "15\n"
     ]
    }
   ],
   "source": [
    "Length=10\n",
    "while Length<20:\n",
    "    print(Length)\n",
    "    Length +=5\n",
    "    "
   ]
  },
  {
   "cell_type": "markdown",
   "metadata": {
    "collapsed": true
   },
   "source": [
    "# Comments, break, String + number"
   ]
  },
  {
   "cell_type": "code",
   "execution_count": 3,
   "metadata": {
    "collapsed": false
   },
   "outputs": [
    {
     "name": "stdout",
     "output_type": "stream",
     "text": [
      "0\n",
      "1\n",
      "2\n",
      "(3, 'is the magic number')\n"
     ]
    }
   ],
   "source": [
    "# one line comment \n",
    "'''\n",
    "multiple line comment\n",
    "'''\n",
    "MagicNo = 3\n",
    "for n in range(60):\n",
    "    if n is MagicNo:\n",
    "        print(n,\"is the magic number\") # alter str(n)+\n",
    "        break\n",
    "    else:\n",
    "        print(n)"
   ]
  },
  {
   "cell_type": "markdown",
   "metadata": {},
   "source": [
    "# Continue"
   ]
  },
  {
   "cell_type": "code",
   "execution_count": 4,
   "metadata": {
    "collapsed": false
   },
   "outputs": [
    {
     "name": "stdout",
     "output_type": "stream",
     "text": [
      "0\n",
      "2\n",
      "4\n",
      "6\n",
      "7\n",
      "9\n"
     ]
    }
   ],
   "source": [
    "# continue and break impacts on loop. Break, breaks the loop and continue, continues thee loop.\n",
    "# I want to check jersy numbers except these\n",
    "\n",
    "List = [1,3,5,8]\n",
    "\n",
    "for n in range(10):\n",
    "    if n in List:    \n",
    "        continue\n",
    "    else:\n",
    "        print(n)"
   ]
  },
  {
   "cell_type": "markdown",
   "metadata": {
    "collapsed": true
   },
   "source": [
    "# Functions"
   ]
  },
  {
   "cell_type": "code",
   "execution_count": 6,
   "metadata": {
    "collapsed": false
   },
   "outputs": [],
   "source": [
    "def gender(sex='undefined'):\n",
    "    if sex is 'M':\n",
    "        sex=\"Male\"\n",
    "    elif sex is 'F':\n",
    "        sex=\"Female\"\n",
    "    print(sex)"
   ]
  },
  {
   "cell_type": "code",
   "execution_count": 10,
   "metadata": {
    "collapsed": false
   },
   "outputs": [
    {
     "name": "stdout",
     "output_type": "stream",
     "text": [
      "Male\n",
      "Female\n",
      "undefined\n"
     ]
    }
   ],
   "source": [
    "gender('M')\n",
    "gender('F')\n",
    "gender()"
   ]
  },
  {
   "cell_type": "markdown",
   "metadata": {},
   "source": [
    "# Return value"
   ]
  },
  {
   "cell_type": "code",
   "execution_count": 5,
   "metadata": {
    "collapsed": false
   },
   "outputs": [
    {
     "name": "stdout",
     "output_type": "stream",
     "text": [
      "(\"your allowed lower limit of girl's age which you can take for dating is \", 16)\n"
     ]
    }
   ],
   "source": [
    "#Don't get offended this is bucky's example.\n",
    "def Allowed_dating_age(my_age): # Return value function \n",
    "    girl_age=my_age/2+7\n",
    "    return girl_age\n",
    "boom=Allowed_dating_age(19)\n",
    "print(\"your allowed lower limit of girl's age which you can take for dating is \", boom)"
   ]
  },
  {
   "cell_type": "markdown",
   "metadata": {},
   "source": [
    "# Functions having default values"
   ]
  },
  {
   "cell_type": "code",
   "execution_count": 2,
   "metadata": {
    "collapsed": false
   },
   "outputs": [],
   "source": [
    "def funcName(name='srs',action='earning',item='money'):\n",
    "    print(name,'is',action,item)"
   ]
  },
  {
   "cell_type": "code",
   "execution_count": 3,
   "metadata": {
    "collapsed": false
   },
   "outputs": [
    {
     "name": "stdout",
     "output_type": "stream",
     "text": [
      "('srs', 'is', 'earning', 'money')\n"
     ]
    }
   ],
   "source": [
    "funcName()"
   ]
  },
  {
   "cell_type": "code",
   "execution_count": 4,
   "metadata": {
    "collapsed": false
   },
   "outputs": [
    {
     "name": "stdout",
     "output_type": "stream",
     "text": [
      "('srs', 'is', 'workingout', 'like hell')\n"
     ]
    }
   ],
   "source": [
    "funcName(action='workingout',item='like hell') "
   ]
  },
  {
   "cell_type": "markdown",
   "metadata": {},
   "source": [
    "# Functions having variable args"
   ]
  },
  {
   "cell_type": "code",
   "execution_count": 4,
   "metadata": {
    "collapsed": false
   },
   "outputs": [],
   "source": [
    "def add(*args):\n",
    "    total=0\n",
    "    for a in args:\n",
    "        total += a\n",
    "    print(total)"
   ]
  },
  {
   "cell_type": "code",
   "execution_count": 5,
   "metadata": {
    "collapsed": false
   },
   "outputs": [
    {
     "name": "stdout",
     "output_type": "stream",
     "text": [
      "15\n"
     ]
    }
   ],
   "source": [
    "add(2,3,4,5,1)"
   ]
  },
  {
   "cell_type": "code",
   "execution_count": 6,
   "metadata": {
    "collapsed": false
   },
   "outputs": [
    {
     "name": "stdout",
     "output_type": "stream",
     "text": [
      "20\n"
     ]
    }
   ],
   "source": [
    "add(2,4,6,8)"
   ]
  },
  {
   "cell_type": "markdown",
   "metadata": {},
   "source": [
    "# Unpacking of arguments"
   ]
  },
  {
   "cell_type": "code",
   "execution_count": 7,
   "metadata": {
    "collapsed": false
   },
   "outputs": [
    {
     "name": "stdout",
     "output_type": "stream",
     "text": [
      "6\n"
     ]
    }
   ],
   "source": [
    "data=[1,2,3]\n",
    "add(data[0],data[1],data[2])"
   ]
  },
  {
   "cell_type": "raw",
   "metadata": {
    "collapsed": false
   },
   "source": [
    "add(*data) # this is unpacking of arguments"
   ]
  },
  {
   "cell_type": "markdown",
   "metadata": {},
   "source": [
    "# Random number generation"
   ]
  },
  {
   "cell_type": "code",
   "execution_count": 8,
   "metadata": {
    "collapsed": false
   },
   "outputs": [
    {
     "name": "stdout",
     "output_type": "stream",
     "text": [
      "20\n"
     ]
    }
   ],
   "source": [
    "import random\n",
    "a=random.randrange(20,27)\n",
    "print(a)"
   ]
  },
  {
   "cell_type": "markdown",
   "metadata": {
    "collapsed": true
   },
   "source": [
    "# Downloading an image from web, importing libraries \n",
    "# Similar program for downloading txt,csv files from net, refer tute no. 24"
   ]
  },
  {
   "cell_type": "code",
   "execution_count": 6,
   "metadata": {
    "collapsed": false
   },
   "outputs": [
    {
     "ename": "SyntaxError",
     "evalue": "invalid syntax (<ipython-input-6-0cf1c91426e3>, line 8)",
     "output_type": "error",
     "traceback": [
      "\u001b[0;36m  File \u001b[0;32m\"<ipython-input-6-0cf1c91426e3>\"\u001b[0;36m, line \u001b[0;32m8\u001b[0m\n\u001b[0;31m    download_img(#insert url of image to be doenloaded)\u001b[0m\n\u001b[0m                                                       ^\u001b[0m\n\u001b[0;31mSyntaxError\u001b[0m\u001b[0;31m:\u001b[0m invalid syntax\n"
     ]
    }
   ],
   "source": [
    "import random # to provide a random name to downloaded picture\n",
    "import urllib.request\n",
    "\n",
    "def download_img(url):\n",
    "    name = random.randunber(1,100)\n",
    "    full_name = str(name)+\".jpg\"\n",
    "    urllib.request.urlretrieve(url, full_name)\n",
    "download_img(#insert url of image to be doenloaded)"
   ]
  },
  {
   "cell_type": "markdown",
   "metadata": {},
   "source": [
    "# Reading and writing in a file"
   ]
  },
  {
   "cell_type": "code",
   "execution_count": 22,
   "metadata": {
    "collapsed": false
   },
   "outputs": [],
   "source": [
    "fw = open('name_of_file.txt','w') #fw is an object can be named anyhthing and open is a function\n",
    "fw.write(\"write some txt here, txt file has been created\\n\")\n",
    "fw.write('write whatever you want to write\\n')\n",
    "fw.close()"
   ]
  },
  {
   "cell_type": "code",
   "execution_count": 23,
   "metadata": {
    "collapsed": false
   },
   "outputs": [
    {
     "name": "stdout",
     "output_type": "stream",
     "text": [
      "write some txt here, txt file has been created\n",
      "write whatever you want to write\n",
      "\n"
     ]
    }
   ],
   "source": [
    "fr = open('name_of_file.txt','r')\n",
    "text = fr.read()\n",
    "print(text)\n",
    "fr.close()"
   ]
  },
  {
   "cell_type": "markdown",
   "metadata": {
    "collapsed": true
   },
   "source": [
    "# Sets,Dictionary,Modules"
   ]
  },
  {
   "cell_type": "code",
   "execution_count": 14,
   "metadata": {
    "collapsed": false
   },
   "outputs": [
    {
     "name": "stdout",
     "output_type": "stream",
     "text": [
      "you need to buy an eraser\n"
     ]
    }
   ],
   "source": [
    "stationary = {'pen','pencil','scale','box'}\n",
    "if 'eraser' in stationary:\n",
    "    print('you already have an eraser')\n",
    "else:\n",
    "    print('you need to buy an eraser')"
   ]
  },
  {
   "cell_type": "code",
   "execution_count": 25,
   "metadata": {
    "collapsed": false
   },
   "outputs": [
    {
     "name": "stdout",
     "output_type": "stream",
     "text": [
      "{'tony': 'sit behind me', 'emma': 'sit on my left side', 'carlos': 'sit infront of me'}\n",
      "sit on my left side\n"
     ]
    }
   ],
   "source": [
    "Dictionary = {'tony':'sit behind me', 'emma':'sit on my left side', 'carlos':'sit infront of me'}\n",
    "print(Dictionary)\n",
    "print(Dictionary['emma'])"
   ]
  },
  {
   "cell_type": "code",
   "execution_count": 28,
   "metadata": {
    "collapsed": false
   },
   "outputs": [
    {
     "name": "stdout",
     "output_type": "stream",
     "text": [
      "tony - sit behind me\n",
      "emma - sit on my left side\n",
      "carlos - sit infront of me\n"
     ]
    }
   ],
   "source": [
    "for k,v in Dictionary.items():\n",
    "    print(k+' - '+v)"
   ]
  },
  {
   "cell_type": "code",
   "execution_count": 29,
   "metadata": {
    "collapsed": true
   },
   "outputs": [],
   "source": [
    "# in modules we create a new module and import that module in main window and use its functions using . operator."
   ]
  },
  {
   "cell_type": "markdown",
   "metadata": {},
   "source": [
    "## Refer tute no 25,26,27 for web crawler"
   ]
  },
  {
   "cell_type": "markdown",
   "metadata": {},
   "source": [
    "# How to take input in python and Handling exceptions"
   ]
  },
  {
   "cell_type": "code",
   "execution_count": 33,
   "metadata": {
    "collapsed": false
   },
   "outputs": [
    {
     "name": "stdout",
     "output_type": "stream",
     "text": [
      "234.5\n"
     ]
    }
   ],
   "source": [
    "variable_name = int(input())"
   ]
  },
  {
   "cell_type": "code",
   "execution_count": 34,
   "metadata": {
    "collapsed": false
   },
   "outputs": [
    {
     "name": "stdout",
     "output_type": "stream",
     "text": [
      "234\n"
     ]
    }
   ],
   "source": [
    "print(variable_name)"
   ]
  },
  {
   "cell_type": "code",
   "execution_count": 35,
   "metadata": {
    "collapsed": false
   },
   "outputs": [
    {
     "name": "stdout",
     "output_type": "stream",
     "text": [
      "what's your fav num?\n",
      "27\n",
      "0\n",
      "loop complete\n"
     ]
    }
   ],
   "source": [
    "while True:\n",
    "        try:\n",
    "            number = int(input(\"what's your fav num?\\n\"))\n",
    "            print(18/number)\n",
    "            break\n",
    "        except ValueError: #particlar type of exception for entering unacceptable values\n",
    "            print(\"make sure and enter a number.\")\n",
    "        except ZeroDivisionError: # as name signifies error occured due to division by zero\n",
    "            print(\"don't pick 0\")\n",
    "        except: # handles all kind of exceptions\n",
    "            break\n",
    "        finally:\n",
    "            print(\"loop complete\")"
   ]
  },
  {
   "cell_type": "markdown",
   "metadata": {},
   "source": [
    "# Classes and Objects"
   ]
  },
  {
   "cell_type": "code",
   "execution_count": 36,
   "metadata": {
    "collapsed": true
   },
   "outputs": [],
   "source": [
    "# class is something which stores the same basic information for example a clss of students will store their name, roll no, marks etc"
   ]
  },
  {
   "cell_type": "code",
   "execution_count": 43,
   "metadata": {
    "collapsed": false
   },
   "outputs": [
    {
     "name": "stdout",
     "output_type": "stream",
     "text": [
      "ouch!\n",
      "ouch!\n",
      "ouch!\n",
      "I'm dead.\n",
      "3 life left\n"
     ]
    }
   ],
   "source": [
    "class Enemy:\n",
    "    life = 3\n",
    "    \n",
    "    def attack(self):\n",
    "        print('ouch!')\n",
    "        self.life -=1\n",
    "\n",
    "    def checklife(self):\n",
    "        if self.life <=0:\n",
    "            print(\"I'm dead.\")\n",
    "        else:\n",
    "            print(str(self.life) + \" life left\")\n",
    "            \n",
    "enemy1 = Enemy()\n",
    "enemy2 = Enemy()\n",
    "\n",
    "enemy1.attack()\n",
    "enemy1.attack()\n",
    "enemy1.attack()\n",
    "enemy1.checklife()\n",
    "enemy2.checklife()"
   ]
  },
  {
   "cell_type": "markdown",
   "metadata": {},
   "source": [
    "# init, somewhat like constructor"
   ]
  },
  {
   "cell_type": "code",
   "execution_count": 14,
   "metadata": {
    "collapsed": false
   },
   "outputs": [
    {
     "name": "stdout",
     "output_type": "stream",
     "text": [
      "you've Rs.1000 in your wallet\n"
     ]
    }
   ],
   "source": [
    "class wallet:\n",
    "    a=1000\n",
    "    def __init__(self):\n",
    "        print(\"you've Rs.\"+str(self.a)+\" in your wallet\")\n",
    "    def add_money(self):\n",
    "        self.a+=100\n",
    "        print(\"you've Rs.\"+str(self.a)+\" in your wallet\")\n",
    "    def remove_money(self):\n",
    "        self.a-=100\n",
    "        print(\"you've Rs.\"+str(self.a)+\" in your wallet\")\n",
    "obj=wallet()\n"
   ]
  },
  {
   "cell_type": "code",
   "execution_count": 15,
   "metadata": {
    "collapsed": false
   },
   "outputs": [
    {
     "name": "stdout",
     "output_type": "stream",
     "text": [
      "you've Rs.1100 in your wallet\n"
     ]
    }
   ],
   "source": [
    "obj.add_money()"
   ]
  },
  {
   "cell_type": "code",
   "execution_count": 16,
   "metadata": {
    "collapsed": false
   },
   "outputs": [
    {
     "name": "stdout",
     "output_type": "stream",
     "text": [
      "you've Rs.1200 in your wallet\n"
     ]
    }
   ],
   "source": [
    "obj.add_money()"
   ]
  },
  {
   "cell_type": "code",
   "execution_count": 17,
   "metadata": {
    "collapsed": false
   },
   "outputs": [
    {
     "name": "stdout",
     "output_type": "stream",
     "text": [
      "you've Rs.1100 in your wallet\n"
     ]
    }
   ],
   "source": [
    "obj.remove_money()"
   ]
  },
  {
   "cell_type": "markdown",
   "metadata": {},
   "source": [
    "# parameterised init"
   ]
  },
  {
   "cell_type": "code",
   "execution_count": 7,
   "metadata": {
    "collapsed": false
   },
   "outputs": [
    {
     "name": "stdout",
     "output_type": "stream",
     "text": [
      "you've Rs.1000 in your wallet\n",
      "you've Rs.10000 in your wallet\n",
      "you've Rs.500 in your wallet\n"
     ]
    }
   ],
   "source": [
    "class wallet:\n",
    "    def __init__(self,a):\n",
    "        self.money=a\n",
    "        print(\"you've Rs.\"+str(self.money)+\" in your wallet\")\n",
    "    def add_money(self,b):\n",
    "        self.amnt=b\n",
    "        self.money+=self.amnt\n",
    "        print(\"you've Rs.\"+str(self.money)+\" in your wallet\")\n",
    "    def remove_money(self,b):\n",
    "        self.amnt=b\n",
    "        self.money-=self.amnt\n",
    "        print(\"you've Rs.\"+str(self.money)+\" in your wallet\")\n",
    "mumma_wallet=wallet(1000)\n",
    "papa_wallet=wallet(10000)\n",
    "srs_wallet=wallet(500)"
   ]
  },
  {
   "cell_type": "code",
   "execution_count": 8,
   "metadata": {
    "collapsed": false
   },
   "outputs": [
    {
     "name": "stdout",
     "output_type": "stream",
     "text": [
      "you've Rs.1501 in your wallet\n"
     ]
    }
   ],
   "source": [
    "srs_wallet.add_money(1001)"
   ]
  },
  {
   "cell_type": "markdown",
   "metadata": {},
   "source": [
    "# class variable vs instance variable"
   ]
  },
  {
   "cell_type": "code",
   "execution_count": 34,
   "metadata": {
    "collapsed": false
   },
   "outputs": [
    {
     "name": "stdout",
     "output_type": "stream",
     "text": [
      "female\n",
      "shakira\n"
     ]
    }
   ],
   "source": [
    "class Girl:\n",
    "    gender = 'female' #class variable as it is same for all class objects\n",
    "    \n",
    "    def __init__(self,name):\n",
    "        self.name=name # instance variable as it changes with new object\n",
    "obj1=Girl('katty')\n",
    "obj2=Girl('shakira')\n",
    "print(obj1.gender)\n",
    "print(obj2.name)"
   ]
  },
  {
   "cell_type": "markdown",
   "metadata": {},
   "source": [
    "# Inheritance and overriding"
   ]
  },
  {
   "cell_type": "code",
   "execution_count": 53,
   "metadata": {
    "collapsed": false
   },
   "outputs": [
    {
     "name": "stdout",
     "output_type": "stream",
     "text": [
      "priyanshu\n",
      "Raj\n",
      "Shrivastava\n",
      "prs\n",
      "srs\n"
     ]
    }
   ],
   "source": [
    "class Parent():\n",
    "    \n",
    "    def last_name(self):\n",
    "        print('Shrivastava')\n",
    "        \n",
    "    def middle_name(self):\n",
    "        print('Raj')\n",
    "    def initials(self):\n",
    "        print('_rs')\n",
    "        \n",
    "class Child(Parent):\n",
    "    \n",
    "    def first_name(self,b):\n",
    "        self.fn=b\n",
    "        print(self.fn)\n",
    "        \n",
    "    def initials(self,b):\n",
    "        self.initials=b\n",
    "        print(self.initials)\n",
    "        \n",
    "        \n",
    "child1=Child()\n",
    "child2=Child()\n",
    "child1.first_name('priyanshu')\n",
    "child1.middle_name()\n",
    "child1.last_name()\n",
    "child1.initials(\"prs\")\n",
    "child2.initials('srs')"
   ]
  },
  {
   "cell_type": "markdown",
   "metadata": {},
   "source": [
    "# Multiple Inheritance"
   ]
  },
  {
   "cell_type": "code",
   "execution_count": 61,
   "metadata": {
    "collapsed": false
   },
   "outputs": [
    {
     "name": "stdout",
     "output_type": "stream",
     "text": [
      "Your bike is runing at constant speed.\n",
      "Your bike's fuel is empty, reach nearest fuel station.\n",
      "We filled up your fuel tank, gtg now!\n",
      "You need to accelerate and risk your life if you fuckin wanna win the race, got it?\n",
      "You grab position number ->FIRST<-\n"
     ]
    }
   ],
   "source": [
    "class Bike_speed():\n",
    "    def move(self):\n",
    "        print(\"Your bike is runing at constant speed.\")\n",
    "    def acc(self):\n",
    "        print(\"You need to accelerate and risk your life if you fuckin wanna win the race, got it?\")\n",
    "class fuel():\n",
    "    def fuele(self):\n",
    "        print(\"Your bike's fuel is empty, reach nearest fuel station.\")\n",
    "    def fuelf(self):\n",
    "        print(\"We filled up your fuel tank, gtg now!\")\n",
    "\n",
    "class bike_race(Bike_speed,fuel):\n",
    "    def position(self,pstn):   # pass #if you don't want to write anything\n",
    "        self.pstn=pstn\n",
    "        print(\"You grab position number ->\"+str(self.pstn)+\"<-\")\n",
    "        \n",
    "br=bike_race()\n",
    "br.move()\n",
    "br.fuele()\n",
    "br.fuelf()\n",
    "br.acc()\n",
    "br.position(\"FIRST\")"
   ]
  },
  {
   "cell_type": "code",
   "execution_count": null,
   "metadata": {
    "collapsed": true
   },
   "outputs": [],
   "source": []
  },
  {
   "cell_type": "code",
   "execution_count": null,
   "metadata": {
    "collapsed": true
   },
   "outputs": [],
   "source": []
  }
 ],
 "metadata": {
  "kernelspec": {
   "display_name": "Python 2",
   "language": "python",
   "name": "python2"
  },
  "language_info": {
   "codemirror_mode": {
    "name": "ipython",
    "version": 2
   },
   "file_extension": ".py",
   "mimetype": "text/x-python",
   "name": "python",
   "nbconvert_exporter": "python",
   "pygments_lexer": "ipython2",
   "version": "2.7.13"
  }
 },
 "nbformat": 4,
 "nbformat_minor": 2
}
